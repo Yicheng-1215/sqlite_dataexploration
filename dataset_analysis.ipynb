{
  "nbformat": 4,
  "nbformat_minor": 0,
  "metadata": {
    "colab": {
      "provenance": [],
      "name": "dataset analysis.ipynb",
      "authorship_tag": "ABX9TyMSd1vYOPAOfYTw6h9hNCTe",
      "include_colab_link": true
    },
    "kernelspec": {
      "name": "python3",
      "display_name": "Python 3"
    },
    "language_info": {
      "name": "python"
    }
  },
  "cells": [
    {
      "cell_type": "markdown",
      "metadata": {
        "id": "view-in-github",
        "colab_type": "text"
      },
      "source": [
        "<a href=\"https://colab.research.google.com/github/Yicheng-1215/sqlite_dataexploration/blob/main/dataset_analysis.ipynb\" target=\"_parent\"><img src=\"https://colab.research.google.com/assets/colab-badge.svg\" alt=\"Open In Colab\"/></a>"
      ]
    },
    {
      "cell_type": "code",
      "execution_count": 2,
      "metadata": {
        "colab": {
          "base_uri": "https://localhost:8080/",
          "height": 77
        },
        "id": "5YzI733vPFha",
        "outputId": "3e3cb08c-cfc4-41a3-8f22-d3830995be36"
      },
      "outputs": [
        {
          "output_type": "display_data",
          "data": {
            "text/plain": [
              "<IPython.core.display.HTML object>"
            ],
            "text/html": [
              "\n",
              "     <input type=\"file\" id=\"files-ea14efd9-0aca-4138-a2bd-70913a7efb5d\" name=\"files[]\" multiple disabled\n",
              "        style=\"border:none\" />\n",
              "     <output id=\"result-ea14efd9-0aca-4138-a2bd-70913a7efb5d\">\n",
              "      Upload widget is only available when the cell has been executed in the\n",
              "      current browser session. Please rerun this cell to enable.\n",
              "      </output>\n",
              "      <script>// Copyright 2017 Google LLC\n",
              "//\n",
              "// Licensed under the Apache License, Version 2.0 (the \"License\");\n",
              "// you may not use this file except in compliance with the License.\n",
              "// You may obtain a copy of the License at\n",
              "//\n",
              "//      http://www.apache.org/licenses/LICENSE-2.0\n",
              "//\n",
              "// Unless required by applicable law or agreed to in writing, software\n",
              "// distributed under the License is distributed on an \"AS IS\" BASIS,\n",
              "// WITHOUT WARRANTIES OR CONDITIONS OF ANY KIND, either express or implied.\n",
              "// See the License for the specific language governing permissions and\n",
              "// limitations under the License.\n",
              "\n",
              "/**\n",
              " * @fileoverview Helpers for google.colab Python module.\n",
              " */\n",
              "(function(scope) {\n",
              "function span(text, styleAttributes = {}) {\n",
              "  const element = document.createElement('span');\n",
              "  element.textContent = text;\n",
              "  for (const key of Object.keys(styleAttributes)) {\n",
              "    element.style[key] = styleAttributes[key];\n",
              "  }\n",
              "  return element;\n",
              "}\n",
              "\n",
              "// Max number of bytes which will be uploaded at a time.\n",
              "const MAX_PAYLOAD_SIZE = 100 * 1024;\n",
              "\n",
              "function _uploadFiles(inputId, outputId) {\n",
              "  const steps = uploadFilesStep(inputId, outputId);\n",
              "  const outputElement = document.getElementById(outputId);\n",
              "  // Cache steps on the outputElement to make it available for the next call\n",
              "  // to uploadFilesContinue from Python.\n",
              "  outputElement.steps = steps;\n",
              "\n",
              "  return _uploadFilesContinue(outputId);\n",
              "}\n",
              "\n",
              "// This is roughly an async generator (not supported in the browser yet),\n",
              "// where there are multiple asynchronous steps and the Python side is going\n",
              "// to poll for completion of each step.\n",
              "// This uses a Promise to block the python side on completion of each step,\n",
              "// then passes the result of the previous step as the input to the next step.\n",
              "function _uploadFilesContinue(outputId) {\n",
              "  const outputElement = document.getElementById(outputId);\n",
              "  const steps = outputElement.steps;\n",
              "\n",
              "  const next = steps.next(outputElement.lastPromiseValue);\n",
              "  return Promise.resolve(next.value.promise).then((value) => {\n",
              "    // Cache the last promise value to make it available to the next\n",
              "    // step of the generator.\n",
              "    outputElement.lastPromiseValue = value;\n",
              "    return next.value.response;\n",
              "  });\n",
              "}\n",
              "\n",
              "/**\n",
              " * Generator function which is called between each async step of the upload\n",
              " * process.\n",
              " * @param {string} inputId Element ID of the input file picker element.\n",
              " * @param {string} outputId Element ID of the output display.\n",
              " * @return {!Iterable<!Object>} Iterable of next steps.\n",
              " */\n",
              "function* uploadFilesStep(inputId, outputId) {\n",
              "  const inputElement = document.getElementById(inputId);\n",
              "  inputElement.disabled = false;\n",
              "\n",
              "  const outputElement = document.getElementById(outputId);\n",
              "  outputElement.innerHTML = '';\n",
              "\n",
              "  const pickedPromise = new Promise((resolve) => {\n",
              "    inputElement.addEventListener('change', (e) => {\n",
              "      resolve(e.target.files);\n",
              "    });\n",
              "  });\n",
              "\n",
              "  const cancel = document.createElement('button');\n",
              "  inputElement.parentElement.appendChild(cancel);\n",
              "  cancel.textContent = 'Cancel upload';\n",
              "  const cancelPromise = new Promise((resolve) => {\n",
              "    cancel.onclick = () => {\n",
              "      resolve(null);\n",
              "    };\n",
              "  });\n",
              "\n",
              "  // Wait for the user to pick the files.\n",
              "  const files = yield {\n",
              "    promise: Promise.race([pickedPromise, cancelPromise]),\n",
              "    response: {\n",
              "      action: 'starting',\n",
              "    }\n",
              "  };\n",
              "\n",
              "  cancel.remove();\n",
              "\n",
              "  // Disable the input element since further picks are not allowed.\n",
              "  inputElement.disabled = true;\n",
              "\n",
              "  if (!files) {\n",
              "    return {\n",
              "      response: {\n",
              "        action: 'complete',\n",
              "      }\n",
              "    };\n",
              "  }\n",
              "\n",
              "  for (const file of files) {\n",
              "    const li = document.createElement('li');\n",
              "    li.append(span(file.name, {fontWeight: 'bold'}));\n",
              "    li.append(span(\n",
              "        `(${file.type || 'n/a'}) - ${file.size} bytes, ` +\n",
              "        `last modified: ${\n",
              "            file.lastModifiedDate ? file.lastModifiedDate.toLocaleDateString() :\n",
              "                                    'n/a'} - `));\n",
              "    const percent = span('0% done');\n",
              "    li.appendChild(percent);\n",
              "\n",
              "    outputElement.appendChild(li);\n",
              "\n",
              "    const fileDataPromise = new Promise((resolve) => {\n",
              "      const reader = new FileReader();\n",
              "      reader.onload = (e) => {\n",
              "        resolve(e.target.result);\n",
              "      };\n",
              "      reader.readAsArrayBuffer(file);\n",
              "    });\n",
              "    // Wait for the data to be ready.\n",
              "    let fileData = yield {\n",
              "      promise: fileDataPromise,\n",
              "      response: {\n",
              "        action: 'continue',\n",
              "      }\n",
              "    };\n",
              "\n",
              "    // Use a chunked sending to avoid message size limits. See b/62115660.\n",
              "    let position = 0;\n",
              "    do {\n",
              "      const length = Math.min(fileData.byteLength - position, MAX_PAYLOAD_SIZE);\n",
              "      const chunk = new Uint8Array(fileData, position, length);\n",
              "      position += length;\n",
              "\n",
              "      const base64 = btoa(String.fromCharCode.apply(null, chunk));\n",
              "      yield {\n",
              "        response: {\n",
              "          action: 'append',\n",
              "          file: file.name,\n",
              "          data: base64,\n",
              "        },\n",
              "      };\n",
              "\n",
              "      let percentDone = fileData.byteLength === 0 ?\n",
              "          100 :\n",
              "          Math.round((position / fileData.byteLength) * 100);\n",
              "      percent.textContent = `${percentDone}% done`;\n",
              "\n",
              "    } while (position < fileData.byteLength);\n",
              "  }\n",
              "\n",
              "  // All done.\n",
              "  yield {\n",
              "    response: {\n",
              "      action: 'complete',\n",
              "    }\n",
              "  };\n",
              "}\n",
              "\n",
              "scope.google = scope.google || {};\n",
              "scope.google.colab = scope.google.colab || {};\n",
              "scope.google.colab._files = {\n",
              "  _uploadFiles,\n",
              "  _uploadFilesContinue,\n",
              "};\n",
              "})(self);\n",
              "</script> "
            ]
          },
          "metadata": {}
        },
        {
          "output_type": "stream",
          "name": "stdout",
          "text": [
            "Saving healthcare_dataset.csv to healthcare_dataset.csv\n"
          ]
        }
      ],
      "source": [
        "from google.colab import files\n",
        "uploaded = files.upload()"
      ]
    },
    {
      "cell_type": "code",
      "source": [
        "import pandas as pd\n",
        "from sqlalchemy import create_engine\n",
        "\n",
        "# Load the dataset\n",
        "df = pd.read_csv('healthcare_dataset.csv')\n",
        "\n",
        "# Create a new SQLite database\n",
        "engine = create_engine('sqlite:///healthcare.db')\n",
        "\n",
        "# Load the dataset into the SQLite database as a table\n",
        "df.to_sql('healthcare_data', engine, if_exists='replace', index=False)\n"
      ],
      "metadata": {
        "colab": {
          "base_uri": "https://localhost:8080/"
        },
        "id": "K-kVvHezPOWF",
        "outputId": "0fc522bb-0cbf-4c72-b53b-afb1c41f175d"
      },
      "execution_count": 4,
      "outputs": [
        {
          "output_type": "execute_result",
          "data": {
            "text/plain": [
              "55500"
            ]
          },
          "metadata": {},
          "execution_count": 4
        }
      ]
    },
    {
      "cell_type": "code",
      "source": [
        "# Select records where the medical condition is 'Cancer'\n",
        "query = \"SELECT * FROM healthcare_data WHERE `medical Condition` = 'Cancer'\"\n",
        "result = pd.read_sql(query, engine)\n",
        "print(result.head())\n",
        "\n",
        "\n"
      ],
      "metadata": {
        "colab": {
          "base_uri": "https://localhost:8080/"
        },
        "id": "PeQQOAuLRa2j",
        "outputId": "2b5f6779-02f2-4b47-9221-8af3e24175ee"
      },
      "execution_count": 19,
      "outputs": [
        {
          "output_type": "stream",
          "name": "stdout",
          "text": [
            "                 Name  Age  Gender Blood Type Medical Condition  \\\n",
            "0       Bobby JacksOn   30    Male         B-            Cancer   \n",
            "1       adrIENNE bEll   43  Female        AB+            Cancer   \n",
            "2  CHrisTInA MARtinez   20  Female         A+            Cancer   \n",
            "3    ChRISTopher BerG   58  Female        AB-            Cancer   \n",
            "4    mIchElLe daniELs   72    Male         O+            Cancer   \n",
            "\n",
            "  Date of Admission          Doctor                     Hospital  \\\n",
            "0        2024-01-31   Matthew Smith              Sons and Miller   \n",
            "1        2022-09-19  Kathleen Hanna                  White-White   \n",
            "2        2021-12-28  Suzanne Thomas  Powell Robinson and Valdez,   \n",
            "3        2021-05-23     Heather Day               Padilla-Walker   \n",
            "4        2020-04-19     John Duncan              Schaefer-Porter   \n",
            "\n",
            "  Insurance Provider  Billing Amount  Room Number Admission Type  \\\n",
            "0         Blue Cross    18856.281306          328         Urgent   \n",
            "1              Aetna    14238.317814          458         Urgent   \n",
            "2              Cigna    45820.462722          277      Emergency   \n",
            "3   UnitedHealthcare    19784.631062          249       Elective   \n",
            "4           Medicare    12576.795609          394         Urgent   \n",
            "\n",
            "  Discharge Date   Medication  Test Results  \n",
            "0     2024-02-02  Paracetamol        Normal  \n",
            "1     2022-10-09   Penicillin      Abnormal  \n",
            "2     2022-01-07  Paracetamol  Inconclusive  \n",
            "3     2021-06-22  Paracetamol  Inconclusive  \n",
            "4     2020-04-22  Paracetamol        Normal  \n"
          ]
        }
      ]
    },
    {
      "cell_type": "code",
      "source": [
        "# Count the number of entries where the medical condition is 'Arthritis'\n",
        "query = \"SELECT COUNT(*) FROM healthcare_data WHERE `Medical Condition` = 'Arthritis'\"\n",
        "print(result)\n"
      ],
      "metadata": {
        "colab": {
          "base_uri": "https://localhost:8080/"
        },
        "id": "SWYhGY22VL-F",
        "outputId": "c4be2c1a-6f8f-4957-a8de-f16e400a9cc7"
      },
      "execution_count": 18,
      "outputs": [
        {
          "output_type": "stream",
          "name": "stdout",
          "text": [
            "   COUNT(*)\n",
            "0      9308\n"
          ]
        }
      ]
    },
    {
      "cell_type": "code",
      "source": [
        "# Group by medical_condition and count the number of entries for each condition\n",
        "query = \"SELECT COUNT(*) FROM healthcare_data WHERE `Medical Condition` = 'Arthritis'\" # Changed medical_condition to `Medical Condition`\n",
        "result = pd.read_sql(query, engine)\n",
        "print(result)\n"
      ],
      "metadata": {
        "colab": {
          "base_uri": "https://localhost:8080/"
        },
        "id": "kkojeRgKVNJJ",
        "outputId": "105637c0-577d-4001-b5e6-90ee8be1c8ff"
      },
      "execution_count": 17,
      "outputs": [
        {
          "output_type": "stream",
          "name": "stdout",
          "text": [
            "   COUNT(*)\n",
            "0      9308\n"
          ]
        }
      ]
    },
    {
      "cell_type": "code",
      "source": [
        "# Sort the data by age and return the top 5 oldest records\n",
        "query = \"SELECT * FROM healthcare_data ORDER BY age DESC LIMIT 5\"\n",
        "result = pd.read_sql(query, engine)\n",
        "print(result)\n"
      ],
      "metadata": {
        "colab": {
          "base_uri": "https://localhost:8080/"
        },
        "id": "BSJ44rrHVPTB",
        "outputId": "2ca6b818-9513-46bd-9c9e-bcd1e539998b"
      },
      "execution_count": 11,
      "outputs": [
        {
          "output_type": "stream",
          "name": "stdout",
          "text": [
            "              Name  Age  Gender Blood Type Medical Condition  \\\n",
            "0     DAVId NeWTOn   89  Female         O+         Arthritis   \n",
            "1  DeBORah McBrIdE   89  Female         O+           Obesity   \n",
            "2     doNALD aViLA   89  Female        AB-            Asthma   \n",
            "3  THomAs PHIllIpS   89  Female         A+      Hypertension   \n",
            "4    mIchaeL POtTs   89    Male         A+      Hypertension   \n",
            "\n",
            "  Date of Admission             Doctor                     Hospital  \\\n",
            "0        2021-02-08      Jerry Hopkins      Cooper Brown Parks, and   \n",
            "1        2021-05-28      Robert Garcia      and Miller, Olson Olson   \n",
            "2        2022-09-17  Christopher Allen    Holmes and Howard Castro,   \n",
            "3        2022-05-22         Mark White     and Martin, Davidson Cox   \n",
            "4        2023-01-19        Mary Vaughn  and Perez, Bennett Townsend   \n",
            "\n",
            "  Insurance Provider  Billing Amount  Room Number Admission Type  \\\n",
            "0              Aetna    34500.016817          242       Elective   \n",
            "1              Cigna     5692.907188          166       Elective   \n",
            "2              Aetna    14042.748908          199      Emergency   \n",
            "3              Cigna    48274.348627          332         Urgent   \n",
            "4              Cigna     9542.739709          289      Emergency   \n",
            "\n",
            "  Discharge Date   Medication  Test Results  \n",
            "0     2021-02-20   Penicillin  Inconclusive  \n",
            "1     2021-06-13  Paracetamol      Abnormal  \n",
            "2     2022-09-27      Aspirin      Abnormal  \n",
            "3     2022-05-26   Penicillin  Inconclusive  \n",
            "4     2023-01-28  Paracetamol      Abnormal  \n"
          ]
        }
      ]
    }
  ]
}